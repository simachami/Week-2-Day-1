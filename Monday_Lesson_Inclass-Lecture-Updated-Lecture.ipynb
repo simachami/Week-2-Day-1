{
 "cells": [
  {
   "cell_type": "markdown",
   "metadata": {},
   "source": [
    "# Week 2 - Monday Lesson (variable assignment, loops, lists)"
   ]
  },
  {
   "cell_type": "markdown",
   "metadata": {},
   "source": [
    "## Tasks Today:\n",
    "\n",
    "1) Int & Float assignments <br>\n",
    " &nbsp;&nbsp;&nbsp;&nbsp; a) Assigning int <br>\n",
    " &nbsp;&nbsp;&nbsp;&nbsp; b) Assigning float <br>\n",
    " &nbsp;&nbsp;&nbsp;&nbsp; c) Performing Calculations on ints and floats <br>\n",
    " &nbsp;&nbsp;&nbsp;&nbsp;&nbsp;&nbsp;&nbsp;&nbsp; - Addition <br>\n",
    " &nbsp;&nbsp;&nbsp;&nbsp;&nbsp;&nbsp;&nbsp;&nbsp; - Subtraction <br>\n",
    " &nbsp;&nbsp;&nbsp;&nbsp;&nbsp;&nbsp;&nbsp;&nbsp; - Multiplication <br>\n",
    " &nbsp;&nbsp;&nbsp;&nbsp;&nbsp;&nbsp;&nbsp;&nbsp; - Division <br>\n",
    " &nbsp;&nbsp;&nbsp;&nbsp;&nbsp;&nbsp;&nbsp;&nbsp; - Floor Division <br>\n",
    " &nbsp;&nbsp;&nbsp;&nbsp;&nbsp;&nbsp;&nbsp;&nbsp; - Modulo <br>\n",
    " &nbsp;&nbsp;&nbsp;&nbsp;&nbsp;&nbsp;&nbsp;&nbsp; - Exponential <br>\n",
    "2) String Input-Output <br>\n",
    " &nbsp;&nbsp;&nbsp;&nbsp; a) String Assignment <br>\n",
    " &nbsp;&nbsp;&nbsp;&nbsp; b) print() <br>\n",
    " &nbsp;&nbsp;&nbsp;&nbsp; c) String Concatenation <br>\n",
    " &nbsp;&nbsp;&nbsp;&nbsp; d) Type Conversion <br>\n",
    " &nbsp;&nbsp;&nbsp;&nbsp; e) input() <br>\n",
    " &nbsp;&nbsp;&nbsp;&nbsp; f) format() <br>\n",
    " &nbsp;&nbsp;&nbsp;&nbsp; g) Old Way (python 2) <br>\n",
    "3) <b>In-Class Exercise #1</b> <br>\n",
    "4) If Statements <br>\n",
    " &nbsp;&nbsp;&nbsp;&nbsp; a) 'is' keyword <br>\n",
    " &nbsp;&nbsp;&nbsp;&nbsp; b) 'in' keyword <br>\n",
    " &nbsp;&nbsp;&nbsp;&nbsp; c) 'not in' keyword <br>\n",
    "5) <b>In-Class Exercise #2</b> <br>\n",
    "6) Elif Statements <br>\n",
    "7) Else Statements <br>\n",
    "8) <b>In-Class Exercise #3</b> <br>\n",
    "9) For Loops <br>\n",
    " &nbsp;&nbsp;&nbsp;&nbsp; a) Using 'in' keyword <br>\n",
    " &nbsp;&nbsp;&nbsp;&nbsp; b) Continue Statement <br>\n",
    " &nbsp;&nbsp;&nbsp;&nbsp; c) Break Statement <br>\n",
    " &nbsp;&nbsp;&nbsp;&nbsp; d) Pass Statement <br>\n",
    " &nbsp;&nbsp;&nbsp;&nbsp; e) Double For Loops <br>\n",
    "10) While Loops <br>\n",
    " &nbsp;&nbsp;&nbsp;&nbsp; a) Looping 'While True' <br>\n",
    " &nbsp;&nbsp;&nbsp;&nbsp; b) While and For Loops Used Together <br>\n",
    "11) Built-In Functions <br>\n",
    " &nbsp;&nbsp;&nbsp;&nbsp; a) range() <br>\n",
    " &nbsp;&nbsp;&nbsp;&nbsp; b) len() <br>\n",
    " &nbsp;&nbsp;&nbsp;&nbsp; c) help() <br>\n",
    " &nbsp;&nbsp;&nbsp;&nbsp; d) isinstance() <br>\n",
    " &nbsp;&nbsp;&nbsp;&nbsp; e) abs() <br>\n",
    "12) Try and Except <br>\n",
    "13) Lists <br>\n",
    " &nbsp;&nbsp;&nbsp;&nbsp; a) Declaring Lists <br>\n",
    " &nbsp;&nbsp;&nbsp;&nbsp; b) Indexing a List <br>\n",
    " &nbsp;&nbsp;&nbsp;&nbsp; c) .append() <br>\n",
    " &nbsp;&nbsp;&nbsp;&nbsp; d) .insert() <br>\n",
    " &nbsp;&nbsp;&nbsp;&nbsp; e) .pop() <br>\n",
    " &nbsp;&nbsp;&nbsp;&nbsp; f) .remove() <br>\n",
    " &nbsp;&nbsp;&nbsp;&nbsp; g) del() <br>\n",
    " &nbsp;&nbsp;&nbsp;&nbsp; h) Concatenating Two Lists <br>\n",
    " &nbsp;&nbsp;&nbsp;&nbsp; i) Lists Within Lists <br>\n",
    " &nbsp;&nbsp;&nbsp;&nbsp; j) Looping Through Lists <br>"
   ]
  },
  {
   "cell_type": "markdown",
   "metadata": {},
   "source": [
    "### Int & Float Assignments"
   ]
  },
  {
   "cell_type": "markdown",
   "metadata": {},
   "source": [
    "##### Assigning int"
   ]
  },
  {
   "cell_type": "code",
   "execution_count": 6,
   "metadata": {},
   "outputs": [
    {
     "name": "stdout",
     "output_type": "stream",
     "text": [
      "10\n"
     ]
    },
    {
     "data": {
      "text/plain": [
       "int"
      ]
     },
     "execution_count": 6,
     "metadata": {},
     "output_type": "execute_result"
    }
   ],
   "source": [
    "#<variable> = <value>\n",
    "\n",
    "my_int = 10\n",
    "\n",
    "print(my_int)\n",
    "(type(my_int))"
   ]
  },
  {
   "cell_type": "markdown",
   "metadata": {},
   "source": [
    "##### Assinging float"
   ]
  },
  {
   "cell_type": "code",
   "execution_count": 7,
   "metadata": {},
   "outputs": [
    {
     "name": "stdout",
     "output_type": "stream",
     "text": [
      "4.1\n"
     ]
    },
    {
     "data": {
      "text/plain": [
       "float"
      ]
     },
     "execution_count": 7,
     "metadata": {},
     "output_type": "execute_result"
    }
   ],
   "source": [
    "my_float = 4.1\n",
    "\n",
    "print(my_float)\n",
    "\n",
    "type(my_float)"
   ]
  },
  {
   "cell_type": "markdown",
   "metadata": {},
   "source": [
    "#### Performing Calculations on ints and floats"
   ]
  },
  {
   "cell_type": "markdown",
   "metadata": {},
   "source": [
    "##### Addition"
   ]
  },
  {
   "cell_type": "code",
   "execution_count": 72,
   "metadata": {},
   "outputs": [
    {
     "data": {
      "text/plain": [
       "10"
      ]
     },
     "execution_count": 72,
     "metadata": {},
     "output_type": "execute_result"
    }
   ],
   "source": [
    "5+5\n",
    "\n"
   ]
  },
  {
   "cell_type": "markdown",
   "metadata": {},
   "source": [
    "##### Subtraction"
   ]
  },
  {
   "cell_type": "code",
   "execution_count": 75,
   "metadata": {},
   "outputs": [
    {
     "data": {
      "text/plain": [
       "8"
      ]
     },
     "execution_count": 75,
     "metadata": {},
     "output_type": "execute_result"
    }
   ],
   "source": [
    "10-5\n",
    "\n",
    "my_int - 2\n",
    "\n",
    "print(my_int)"
   ]
  },
  {
   "cell_type": "code",
   "execution_count": 77,
   "metadata": {},
   "outputs": [
    {
     "name": "stdout",
     "output_type": "stream",
     "text": [
      "6\n",
      "4\n"
     ]
    }
   ],
   "source": [
    "#update value with calculation\n",
    "\n",
    "#long hand\n",
    "my_int = my_int - 2\n",
    "print(my_int)\n",
    "\n",
    "#short hand\n",
    "\n",
    "my_int -= 2\n",
    "\n",
    "print(my_int)"
   ]
  },
  {
   "cell_type": "markdown",
   "metadata": {},
   "source": [
    "##### Multiplication"
   ]
  },
  {
   "cell_type": "code",
   "execution_count": 79,
   "metadata": {},
   "outputs": [
    {
     "name": "stdout",
     "output_type": "stream",
     "text": [
      "25\n"
     ]
    }
   ],
   "source": [
    "10 * 10\n",
    "\n",
    "new_int = 25\n",
    "\n",
    "new_int * 2\n",
    "\n",
    "print(new_int)"
   ]
  },
  {
   "cell_type": "code",
   "execution_count": null,
   "metadata": {},
   "outputs": [],
   "source": [
    "#reassign\n",
    "\n",
    "#long hand\n",
    "new_int = new_int * 2\n",
    "print(new_int)\n",
    "\n",
    "#short hand\n",
    "new_int *= 5\n",
    "print(new_int)"
   ]
  },
  {
   "cell_type": "markdown",
   "metadata": {},
   "source": [
    "##### Division"
   ]
  },
  {
   "cell_type": "code",
   "execution_count": 82,
   "metadata": {},
   "outputs": [
    {
     "data": {
      "text/plain": [
       "100.0"
      ]
     },
     "execution_count": 82,
     "metadata": {},
     "output_type": "execute_result"
    }
   ],
   "source": [
    "# division always returns a float\n",
    "10 / 2\n",
    "\n",
    "#division and convert back to int \n",
    "\n",
    "int(10/2)\n",
    "print(new_int / 25)"
   ]
  },
  {
   "cell_type": "code",
   "execution_count": 86,
   "metadata": {},
   "outputs": [
    {
     "name": "stdout",
     "output_type": "stream",
     "text": [
      "2.0\n",
      "1.0\n"
     ]
    }
   ],
   "source": [
    "new_int = (new_int / 25)\n",
    "print(new_int)\n",
    "\n",
    "new_int /= 2\n",
    "print(new_int)"
   ]
  },
  {
   "cell_type": "markdown",
   "metadata": {},
   "source": [
    "##### Floor Division"
   ]
  },
  {
   "cell_type": "code",
   "execution_count": 90,
   "metadata": {},
   "outputs": [
    {
     "name": "stdout",
     "output_type": "stream",
     "text": [
      "2\n"
     ]
    }
   ],
   "source": [
    "10//2\n",
    "\n",
    "11 // 2\n",
    "\n",
    "ten = 10\n",
    "print(ten // 5)"
   ]
  },
  {
   "cell_type": "markdown",
   "metadata": {},
   "source": [
    "##### Modulo"
   ]
  },
  {
   "cell_type": "code",
   "execution_count": 93,
   "metadata": {},
   "outputs": [
    {
     "data": {
      "text/plain": [
       "24"
      ]
     },
     "execution_count": 93,
     "metadata": {},
     "output_type": "execute_result"
    }
   ],
   "source": [
    "11 % 2\n",
    "\n",
    "124 % 25"
   ]
  },
  {
   "cell_type": "markdown",
   "metadata": {},
   "source": [
    "##### Exponential"
   ]
  },
  {
   "cell_type": "code",
   "execution_count": 96,
   "metadata": {},
   "outputs": [
    {
     "data": {
      "text/plain": [
       "1000"
      ]
     },
     "execution_count": 96,
     "metadata": {},
     "output_type": "execute_result"
    }
   ],
   "source": [
    "# ** \n",
    "\n",
    "10 ** 2\n",
    "\n",
    "10 ** 3"
   ]
  },
  {
   "cell_type": "code",
   "execution_count": 97,
   "metadata": {},
   "outputs": [
    {
     "name": "stdout",
     "output_type": "stream",
     "text": [
      "100\n"
     ]
    }
   ],
   "source": [
    "ten = 10\n",
    "\n",
    "ten **= 2\n",
    "\n",
    "print(ten)"
   ]
  },
  {
   "cell_type": "markdown",
   "metadata": {},
   "source": [
    "### String Input-Output"
   ]
  },
  {
   "cell_type": "markdown",
   "metadata": {},
   "source": [
    "##### String Assignment"
   ]
  },
  {
   "cell_type": "code",
   "execution_count": 99,
   "metadata": {},
   "outputs": [
    {
     "name": "stdout",
     "output_type": "stream",
     "text": [
      "sean\n",
      "<class 'str'>\n"
     ]
    }
   ],
   "source": [
    "type('sean100')\n",
    "#string is wrapped in quotes double or single, quotes must match\n",
    "\n",
    "instructor = 'sean'\n",
    "print(instructor)\n",
    "print(type(instructor))"
   ]
  },
  {
   "cell_type": "markdown",
   "metadata": {},
   "source": [
    "##### print() <br>\n",
    "<p>Don't forget about end=' '</p>"
   ]
  },
  {
   "cell_type": "code",
   "execution_count": 104,
   "metadata": {},
   "outputs": [
    {
     "name": "stdout",
     "output_type": "stream",
     "text": [
      "sean currie dylan smith\n",
      "matrix\n"
     ]
    }
   ],
   "source": [
    "print(instructor, end=' currie ')\n",
    "print('dylan', end=' ')\n",
    "print('smith')\n",
    "print('matrix')"
   ]
  },
  {
   "cell_type": "markdown",
   "metadata": {},
   "source": [
    "##### String Concatenation"
   ]
  },
  {
   "cell_type": "code",
   "execution_count": 106,
   "metadata": {},
   "outputs": [
    {
     "name": "stdout",
     "output_type": "stream",
     "text": [
      "dylan smith\n"
     ]
    }
   ],
   "source": [
    "first_name ='dylan'\n",
    "\n",
    "print(first_name + ' '+'smith')"
   ]
  },
  {
   "cell_type": "code",
   "execution_count": 107,
   "metadata": {},
   "outputs": [
    {
     "name": "stdout",
     "output_type": "stream",
     "text": [
      "dylan smith\n"
     ]
    }
   ],
   "source": [
    "last_name = 'smith'\n",
    "\n",
    "print(first_name + ' '+ last_name)"
   ]
  },
  {
   "cell_type": "code",
   "execution_count": 111,
   "metadata": {},
   "outputs": [
    {
     "name": "stdout",
     "output_type": "stream",
     "text": [
      "dylan smith\n",
      "dylan smith jr\n"
     ]
    }
   ],
   "source": [
    "full_name = first_name + ' ' + last_name\n",
    "print(full_name)\n",
    "\n",
    "full_name += ' jr'\n",
    "print(full_name)"
   ]
  },
  {
   "cell_type": "markdown",
   "metadata": {},
   "source": [
    "##### Type Conversion"
   ]
  },
  {
   "cell_type": "code",
   "execution_count": 115,
   "metadata": {},
   "outputs": [
    {
     "name": "stdout",
     "output_type": "stream",
     "text": [
      "123\n",
      "<class 'str'>\n",
      "dylan smith jr happy birthday you are now 33\n"
     ]
    }
   ],
   "source": [
    "type(12)\n",
    "\n",
    "type('12')\n",
    "\n",
    "str_digit = '23'\n",
    "#bug\n",
    "#str_digit + 100\n",
    "\n",
    "print(int(str_digit) + 100)\n",
    "\n",
    "print(type(str_digit))\n",
    "\n",
    "#another bug\n",
    "#int('23a')\n",
    "\n",
    "my_age = 33\n",
    "\n",
    "#bug\n",
    "#happy_birthday_string = fullname + ' happy birthday you are now ' + my_age\n",
    "\n",
    "happy_birthday_string = full_name + ' happy birthday you are now ' + str(my_age)\n",
    "print(happy_birthday_string)"
   ]
  },
  {
   "cell_type": "code",
   "execution_count": null,
   "metadata": {},
   "outputs": [],
   "source": [
    "print(type(my_age))\n",
    "\n",
    "my_age = str(my_age)\n",
    "\n",
    "print(type(my_age))"
   ]
  },
  {
   "cell_type": "markdown",
   "metadata": {},
   "source": [
    "##### input()"
   ]
  },
  {
   "cell_type": "code",
   "execution_count": 122,
   "metadata": {},
   "outputs": [
    {
     "name": "stdout",
     "output_type": "stream",
     "text": [
      "what is your age? 28\n"
     ]
    }
   ],
   "source": [
    "user_age = input('what is your age? ')"
   ]
  },
  {
   "cell_type": "code",
   "execution_count": 123,
   "metadata": {},
   "outputs": [
    {
     "name": "stdout",
     "output_type": "stream",
     "text": [
      "28\n",
      "<class 'str'>\n"
     ]
    }
   ],
   "source": [
    "print(user_age)\n",
    "print(type(user_age))"
   ]
  },
  {
   "cell_type": "markdown",
   "metadata": {},
   "source": [
    "##### format()"
   ]
  },
  {
   "cell_type": "code",
   "execution_count": 124,
   "metadata": {},
   "outputs": [
    {
     "name": "stdout",
     "output_type": "stream",
     "text": [
      "sean you are 28 and you are beautiful\n"
     ]
    }
   ],
   "source": [
    "result_string = '{} you are {} and you are beautiful'.format(instructor, user_age)\n",
    "print(result_string)"
   ]
  },
  {
   "cell_type": "code",
   "execution_count": 130,
   "metadata": {},
   "outputs": [
    {
     "name": "stdout",
     "output_type": "stream",
     "text": [
      "sean you are 28 and you are beautiful \n"
     ]
    }
   ],
   "source": [
    "result_string2 = instructor + ' you are ' + user_age + ' and you are beautiful '\n",
    "print(result_string2)"
   ]
  },
  {
   "cell_type": "markdown",
   "metadata": {},
   "source": [
    "##### Old Way (python 2)"
   ]
  },
  {
   "cell_type": "code",
   "execution_count": 131,
   "metadata": {},
   "outputs": [
    {
     "name": "stdout",
     "output_type": "stream",
     "text": [
      "sean you are 33 and you are beautiful\n"
     ]
    }
   ],
   "source": [
    "result_string_python2 = '%s you are %d and you are beautiful' %(instructor, int(my_age))\n",
    "\n",
    "print(result_string_python2)"
   ]
  },
  {
   "cell_type": "markdown",
   "metadata": {},
   "source": [
    "# In-Class Exercise 1 <br>\n",
    "<p>Create a format statement that asks for color, year, make, model and prints out the results</p>"
   ]
  },
  {
   "cell_type": "code",
   "execution_count": null,
   "metadata": {},
   "outputs": [],
   "source": [
    "#OUTPUT:  The car's color is blue, the year is 2019, make is honda, and model is CR-V\n",
    "\n",
    "name = input(\"What is your name?: \")\n",
    "color = input(\"What color is your car?: \")\n",
    "year = input(\"What year is your car?: \")\n",
    "model = input(\"What model is your car?: \")\n",
    "results = f\"{name}, your {year} {model}'s color is {color}\"\n",
    "\n",
    "print(results)"
   ]
  },
  {
   "cell_type": "markdown",
   "metadata": {},
   "source": [
    "### If Statements"
   ]
  },
  {
   "cell_type": "code",
   "execution_count": 9,
   "metadata": {},
   "outputs": [
    {
     "name": "stdout",
     "output_type": "stream",
     "text": [
      "both true\n",
      "at least one is true\n",
      "ten greater than both\n",
      "ten greater than both2\n"
     ]
    }
   ],
   "source": [
    "# Available operators: Greater(>), Less(<),Equal(==)\n",
    "# Greater or Equal(>=), Less or Equal (<=)\n",
    "\n",
    "# Truth Tree:\n",
    "# T && F = F\n",
    "# T && T = T\n",
    "# T || F = T\n",
    "# F || T = T\n",
    "# F || F = F\n",
    "\n",
    "if True and True:\n",
    "    print('both true')\n",
    "    \n",
    "if False and True:\n",
    "    print('both true2')\n",
    "\n",
    "if False and True:\n",
    "    print('at least one is true')\n",
    "\n",
    "if True or False:\n",
    "    print('at least one is true')\n",
    "\n",
    "# bug\n",
    "if 10 > 8 and 6:\n",
    "    print('ten greater than both')\n",
    "    \n",
    "#proper way to check\n",
    "if 10 > 8 and 10 > 6:\n",
    "    print('ten greater than both2')\n",
    "    \n",
    "if 24 > 25 or 0 > 1:\n",
    "    print('either true or both false')"
   ]
  },
  {
   "cell_type": "markdown",
   "metadata": {},
   "source": [
    "##### 'is' keyword"
   ]
  },
  {
   "cell_type": "code",
   "execution_count": 12,
   "metadata": {
    "scrolled": true
   },
   "outputs": [
    {
     "name": "stdout",
     "output_type": "stream",
     "text": [
      "True\n",
      "True\n",
      "True\n",
      "True\n",
      "True\n",
      "False\n",
      "{'a': 1}\n",
      "True\n",
      "True\n"
     ]
    },
    {
     "name": "stderr",
     "output_type": "stream",
     "text": [
      "<>:3: SyntaxWarning: \"is\" with a literal. Did you mean \"==\"?\n",
      "<>:9: SyntaxWarning: \"is\" with a literal. Did you mean \"==\"?\n",
      "<>:3: SyntaxWarning: \"is\" with a literal. Did you mean \"==\"?\n",
      "<>:9: SyntaxWarning: \"is\" with a literal. Did you mean \"==\"?\n",
      "C:\\Users\\simab\\AppData\\Local\\Temp\\ipykernel_4196\\4159356327.py:3: SyntaxWarning: \"is\" with a literal. Did you mean \"==\"?\n",
      "  print(55 is 55)\n",
      "C:\\Users\\simab\\AppData\\Local\\Temp\\ipykernel_4196\\4159356327.py:9: SyntaxWarning: \"is\" with a literal. Did you mean \"==\"?\n",
      "  print(another_num is 55)\n"
     ]
    }
   ],
   "source": [
    "print(55 == 55)\n",
    "#incorrect\n",
    "print(55 is 55)\n",
    "\n",
    "another_num = 55\n",
    "\n",
    "print(another_num == 55)\n",
    "#incorrect\n",
    "print(another_num is 55)\n",
    "\n",
    "dict1= {'a':1}\n",
    "dict2= {'a':1}\n",
    "\n",
    "print(dict1==dict2)\n",
    "\n",
    "print(dict1 is dict2)\n",
    "\n",
    "dict3 = dict1\n",
    "\n",
    "print(dict3)\n",
    "\n",
    "print(dict3 == dict1)\n",
    "\n",
    "print(dict3 is dict1)\n",
    "\n"
   ]
  },
  {
   "cell_type": "markdown",
   "metadata": {},
   "source": [
    "##### 'in' keyword"
   ]
  },
  {
   "cell_type": "code",
   "execution_count": 16,
   "metadata": {},
   "outputs": [
    {
     "name": "stdout",
     "output_type": "stream",
     "text": [
      "True\n",
      "False\n",
      "the in name\n",
      "H in name\n"
     ]
    }
   ],
   "source": [
    "print('a' in 'abc')\n",
    "print('d' in 'abc')\n",
    "\n",
    "char_name = 'the hulk'\n",
    "\n",
    "if 'the' in char_name:\n",
    "    print('the in name')\n",
    "    \n",
    "if 'H' .lower() in char_name.lower():\n",
    "    print('H in name')"
   ]
  },
  {
   "cell_type": "markdown",
   "metadata": {},
   "source": [
    "##### 'not in' keyword'"
   ]
  },
  {
   "cell_type": "code",
   "execution_count": 20,
   "metadata": {},
   "outputs": [
    {
     "name": "stdout",
     "output_type": "stream",
     "text": [
      "False\n",
      "True\n"
     ]
    }
   ],
   "source": [
    "print('a' not in 'abc')\n",
    "print('d' not in 'abc')\n",
    "\n",
    "if 'z' not in 'Zelda'.lower():\n",
    "    print('case sensitive')\n",
    "    "
   ]
  },
  {
   "cell_type": "markdown",
   "metadata": {},
   "source": [
    "# In-Class Exercise 2 <br>\n",
    "<p>Ask user for input, check to see if the letter 'p' is in the input</p>"
   ]
  },
  {
   "cell_type": "code",
   "execution_count": 30,
   "metadata": {},
   "outputs": [
    {
     "name": "stdout",
     "output_type": "stream",
     "text": [
      "Enter your namesima\n"
     ]
    }
   ],
   "source": [
    "user_input = input(\"Enter your name\")\n",
    "if 'p' in user_name:\n",
    "    print('True')\n",
    "    \n",
    "    \n",
    "# OUTPUT: True -- if p is found\n",
    "# False -- if p is NOT found\n",
    "\n",
    "street=input(\"Where do you live?\")\n",
    "result_string = \"You live on {} street.\".format(street)\n",
    "print(result_string)\n",
    "\n",
    "if 'p' not in street:\n",
    "    print(\"p is NOT here...\")"
   ]
  },
  {
   "cell_type": "markdown",
   "metadata": {},
   "source": [
    "## Using 'and'/'or' with If Statements"
   ]
  },
  {
   "cell_type": "code",
   "execution_count": 31,
   "metadata": {},
   "outputs": [
    {
     "name": "stdout",
     "output_type": "stream",
     "text": [
      "d and s\n"
     ]
    }
   ],
   "source": [
    "#see above\n",
    "\n",
    "if 'd' in 'dylan' and 's' in 'sean':\n",
    "    print('d and s')"
   ]
  },
  {
   "cell_type": "markdown",
   "metadata": {},
   "source": [
    "### Elif Statements"
   ]
  },
  {
   "cell_type": "code",
   "execution_count": 32,
   "metadata": {},
   "outputs": [
    {
     "name": "stdout",
     "output_type": "stream",
     "text": [
      "found D\n"
     ]
    }
   ],
   "source": [
    "#elif and else are chained to an if\n",
    "#you can have multiple elif, but one else\n",
    "\n",
    "#if /ellif/ else chain the first condition that returns true break chain\n",
    "\n",
    "#elif <condition>:\n",
    "# action\n",
    "\n",
    "#else:\n",
    "#    action\n",
    "\n",
    "if 'd' in 'Dylan':\n",
    "    print('found d')\n",
    "elif 'D' in 'Dylan':\n",
    "    print('found D')\n",
    "else:\n",
    "    print('no d')"
   ]
  },
  {
   "cell_type": "code",
   "execution_count": 33,
   "metadata": {},
   "outputs": [
    {
     "name": "stdout",
     "output_type": "stream",
     "text": [
      "A\n"
     ]
    }
   ],
   "source": [
    "grade = 90\n",
    "\n",
    "if grade >= 90:\n",
    "    print('A')\n",
    "elif grade >= 80:\n",
    "    print('B')"
   ]
  },
  {
   "cell_type": "markdown",
   "metadata": {},
   "source": [
    "### Else Statements"
   ]
  },
  {
   "cell_type": "code",
   "execution_count": null,
   "metadata": {},
   "outputs": [],
   "source": [
    "#else will run if all chained conditions return false\n",
    "#any chained condition returns true break from chain, don't run else. \n",
    "# see above"
   ]
  },
  {
   "cell_type": "markdown",
   "metadata": {},
   "source": [
    "### For Loops"
   ]
  },
  {
   "cell_type": "code",
   "execution_count": 39,
   "metadata": {},
   "outputs": [
    {
     "name": "stdout",
     "output_type": "stream",
     "text": [
      "h\n",
      "end of loop code block with letter h\n",
      "e\n",
      "end of loop code block with letter e\n",
      "l\n",
      "end of loop code block with letter l\n",
      "l\n",
      "end of loop code block with letter l\n",
      "o\n",
      "end of loop code block with letter o\n",
      " \n",
      "end of loop code block with letter  \n",
      "w\n",
      "end of loop code block with letter w\n",
      "o\n",
      "end of loop code block with letter o\n",
      "r\n",
      "end of loop code block with letter r\n",
      "l\n",
      "end of loop code block with letter l\n",
      "d\n",
      "end of loop code block with letter d\n",
      "finish loop\n"
     ]
    }
   ],
   "source": [
    "#for <loop variable> in <iterable>:\n",
    "#   <loop code block can be 1 or many lines>\n",
    "#<code after for loop>\n",
    "\n",
    "for letter  in 'hello world':\n",
    "    print(letter)\n",
    "    print('end of loop code block with letter ' + letter)\n",
    "print('finish loop')"
   ]
  },
  {
   "cell_type": "markdown",
   "metadata": {},
   "source": [
    "##### Using 'in' keyword"
   ]
  },
  {
   "cell_type": "code",
   "execution_count": 41,
   "metadata": {},
   "outputs": [
    {
     "name": "stdout",
     "output_type": "stream",
     "text": [
      "0\n",
      "1\n",
      "2\n",
      "3\n",
      "4\n",
      "5\n",
      "6\n",
      "7\n",
      "8\n",
      "9\n"
     ]
    }
   ],
   "source": [
    "# see above\n",
    "\n",
    "for num in range(10):\n",
    "    print(num)"
   ]
  },
  {
   "cell_type": "markdown",
   "metadata": {},
   "source": [
    "##### Continue Statement"
   ]
  },
  {
   "cell_type": "code",
   "execution_count": null,
   "metadata": {},
   "outputs": [],
   "source": [
    "# will continue to next iteration"
   ]
  },
  {
   "cell_type": "code",
   "execution_count": 43,
   "metadata": {},
   "outputs": [
    {
     "name": "stdout",
     "output_type": "stream",
     "text": [
      "0\n",
      "1\n",
      "2\n",
      "3\n",
      "4\n",
      "6\n",
      "7\n",
      "8\n",
      "9\n"
     ]
    }
   ],
   "source": [
    "for num in range(10):\n",
    "    if num == 5:\n",
    "        #print('5 before continue')\n",
    "        #print('line 2 in action')\n",
    "        continue\n",
    "    print(num)"
   ]
  },
  {
   "cell_type": "markdown",
   "metadata": {},
   "source": [
    "##### Break Statement"
   ]
  },
  {
   "cell_type": "code",
   "execution_count": null,
   "metadata": {},
   "outputs": [],
   "source": [
    "# will break out of current loop"
   ]
  },
  {
   "cell_type": "code",
   "execution_count": 48,
   "metadata": {},
   "outputs": [
    {
     "name": "stdout",
     "output_type": "stream",
     "text": [
      "0\n",
      "1\n",
      "2\n",
      "3\n",
      "4\n",
      "after break\n"
     ]
    }
   ],
   "source": [
    "for num in range(10):\n",
    "    if num == 5:\n",
    "        break\n",
    "        print('5 with break')\n",
    "    print(num)\n",
    "print('after break')"
   ]
  },
  {
   "cell_type": "markdown",
   "metadata": {},
   "source": [
    "##### Pass Statement"
   ]
  },
  {
   "cell_type": "code",
   "execution_count": null,
   "metadata": {},
   "outputs": [],
   "source": [
    "# mostly used as a placeholder, and will continue on same iteration\n",
    "\n"
   ]
  },
  {
   "cell_type": "code",
   "execution_count": 50,
   "metadata": {},
   "outputs": [
    {
     "name": "stdout",
     "output_type": "stream",
     "text": [
      "0\n",
      "1\n",
      "2\n",
      "3\n",
      "4\n",
      "5 with pass\n",
      "5\n",
      "6\n",
      "7\n",
      "8\n",
      "9\n",
      "after for loop\n"
     ]
    }
   ],
   "source": [
    "for num in range(10):\n",
    "    if num == 5:\n",
    "        pass\n",
    "        print('5 with pass')\n",
    "    print (num)\n",
    "print('after for loop')"
   ]
  },
  {
   "cell_type": "markdown",
   "metadata": {},
   "source": [
    "##### Double For Loops"
   ]
  },
  {
   "cell_type": "code",
   "execution_count": 51,
   "metadata": {},
   "outputs": [
    {
     "name": "stdout",
     "output_type": "stream",
     "text": [
      "d 0\n",
      "d 1\n",
      "d 2\n",
      "d 3\n",
      "d 4\n",
      "nested loop complete\n",
      "\n",
      "y 0\n",
      "y 1\n",
      "y 2\n",
      "y 3\n",
      "y 4\n",
      "nested loop complete\n",
      "\n",
      "l 0\n",
      "l 1\n",
      "l 2\n",
      "l 3\n",
      "l 4\n",
      "nested loop complete\n",
      "\n",
      "a 0\n",
      "a 1\n",
      "a 2\n",
      "a 3\n",
      "a 4\n",
      "nested loop complete\n",
      "\n",
      "n 0\n",
      "n 1\n",
      "n 2\n",
      "n 3\n",
      "n 4\n",
      "nested loop complete\n",
      "\n"
     ]
    }
   ],
   "source": [
    "for letter in 'dylan':\n",
    "    for num in range(5):\n",
    "        print(f'{letter} {num}')\n",
    "    print('nested loop complete\\n')"
   ]
  },
  {
   "cell_type": "markdown",
   "metadata": {},
   "source": [
    "### While Loops"
   ]
  },
  {
   "cell_type": "code",
   "execution_count": 53,
   "metadata": {},
   "outputs": [
    {
     "name": "stdout",
     "output_type": "stream",
     "text": [
      "1\n",
      "2\n",
      "3\n",
      "4\n",
      "5\n",
      "6\n",
      "7\n",
      "8\n",
      "9\n",
      "10\n"
     ]
    }
   ],
   "source": [
    "#while <boolean condition>\n",
    "#     <loop code block>\n",
    "\n",
    "num = 0\n",
    "while num < 10:\n",
    "    num += 1\n",
    "    print(num)\n",
    "    \n",
    "\n",
    "    \n",
    "#infinite loop, avoid!!!\n",
    "num = 0\n",
    "while num < 10:\n",
    "    print(num)"
   ]
  },
  {
   "cell_type": "markdown",
   "metadata": {},
   "source": [
    "##### Looping 'While True'"
   ]
  },
  {
   "cell_type": "code",
   "execution_count": 54,
   "metadata": {},
   "outputs": [
    {
     "name": "stdout",
     "output_type": "stream",
     "text": [
      "Are you still playingyes\n",
      "Rock on\n",
      "Are you still playingyes\n",
      "Rock on\n",
      "Are you still playingno\n"
     ]
    }
   ],
   "source": [
    "while True:\n",
    "    playing = input(\"Are you still playing\")\n",
    "    if playing == 'no':\n",
    "        break\n",
    "    print('Rock on')"
   ]
  },
  {
   "cell_type": "markdown",
   "metadata": {},
   "source": [
    "##### While & For Loops Used Together"
   ]
  },
  {
   "cell_type": "code",
   "execution_count": 60,
   "metadata": {},
   "outputs": [
    {
     "name": "stdout",
     "output_type": "stream",
     "text": [
      "s 0\n",
      "nested loop complete\n",
      "s 1\n",
      "nested loop complete\n",
      "s 2\n",
      "nested loop complete\n",
      "s 3\n",
      "nested loop complete\n",
      "s 4\n",
      "nested loop complete\n",
      "e 0\n",
      "nested loop complete\n",
      "e 1\n",
      "nested loop complete\n",
      "e 2\n",
      "nested loop complete\n",
      "e 3\n",
      "nested loop complete\n",
      "e 4\n",
      "nested loop complete\n",
      "a 0\n",
      "nested loop complete\n",
      "a 1\n",
      "nested loop complete\n",
      "a 2\n",
      "nested loop complete\n",
      "a 3\n",
      "nested loop complete\n",
      "a 4\n",
      "nested loop complete\n",
      "n 0\n",
      "nested loop complete\n",
      "n 1\n",
      "nested loop complete\n",
      "n 2\n",
      "nested loop complete\n",
      "n 3\n",
      "nested loop complete\n",
      "n 4\n",
      "nested loop complete\n",
      "outter loop complete\n"
     ]
    }
   ],
   "source": [
    "for letter in 'sean':\n",
    "    num = 0\n",
    "    while num < 5:\n",
    "        print(letter + ' ' + str(num))\n",
    "        num += 1\n",
    "        print('nested loop complete')\n",
    "        \n",
    "print('outter loop complete')"
   ]
  },
  {
   "cell_type": "markdown",
   "metadata": {},
   "source": [
    "### Built-In Functions"
   ]
  },
  {
   "cell_type": "markdown",
   "metadata": {},
   "source": [
    "##### range()"
   ]
  },
  {
   "cell_type": "code",
   "execution_count": 40,
   "metadata": {},
   "outputs": [
    {
     "data": {
      "text/plain": [
       "range(0, 10)"
      ]
     },
     "execution_count": 40,
     "metadata": {},
     "output_type": "execute_result"
    }
   ],
   "source": [
    "#range(<start>, <stop> , <step>)\n",
    "#start and step are optional default to 0 and 1\n",
    "#commonly seen\n",
    "\n",
    "range(10)"
   ]
  },
  {
   "cell_type": "markdown",
   "metadata": {},
   "source": [
    "##### len()"
   ]
  },
  {
   "cell_type": "code",
   "execution_count": 63,
   "metadata": {},
   "outputs": [
    {
     "name": "stdout",
     "output_type": "stream",
     "text": [
      "0\n",
      "1\n",
      "2\n",
      "3\n"
     ]
    }
   ],
   "source": [
    "# len(<iterable>)\n",
    "\n",
    "len('sean')\n",
    "\n",
    "list(range(len('sean')))\n",
    "\n",
    "for num in range(len('sean')):\n",
    "    print(num)"
   ]
  },
  {
   "cell_type": "markdown",
   "metadata": {},
   "source": [
    "##### help()"
   ]
  },
  {
   "cell_type": "code",
   "execution_count": 64,
   "metadata": {},
   "outputs": [
    {
     "name": "stdout",
     "output_type": "stream",
     "text": [
      "Help on class range in module builtins:\n",
      "\n",
      "class range(object)\n",
      " |  range(stop) -> range object\n",
      " |  range(start, stop[, step]) -> range object\n",
      " |  \n",
      " |  Return an object that produces a sequence of integers from start (inclusive)\n",
      " |  to stop (exclusive) by step.  range(i, j) produces i, i+1, i+2, ..., j-1.\n",
      " |  start defaults to 0, and stop is omitted!  range(4) produces 0, 1, 2, 3.\n",
      " |  These are exactly the valid indices for a list of 4 elements.\n",
      " |  When step is given, it specifies the increment (or decrement).\n",
      " |  \n",
      " |  Methods defined here:\n",
      " |  \n",
      " |  __bool__(self, /)\n",
      " |      True if self else False\n",
      " |  \n",
      " |  __contains__(self, key, /)\n",
      " |      Return key in self.\n",
      " |  \n",
      " |  __eq__(self, value, /)\n",
      " |      Return self==value.\n",
      " |  \n",
      " |  __ge__(self, value, /)\n",
      " |      Return self>=value.\n",
      " |  \n",
      " |  __getattribute__(self, name, /)\n",
      " |      Return getattr(self, name).\n",
      " |  \n",
      " |  __getitem__(self, key, /)\n",
      " |      Return self[key].\n",
      " |  \n",
      " |  __gt__(self, value, /)\n",
      " |      Return self>value.\n",
      " |  \n",
      " |  __hash__(self, /)\n",
      " |      Return hash(self).\n",
      " |  \n",
      " |  __iter__(self, /)\n",
      " |      Implement iter(self).\n",
      " |  \n",
      " |  __le__(self, value, /)\n",
      " |      Return self<=value.\n",
      " |  \n",
      " |  __len__(self, /)\n",
      " |      Return len(self).\n",
      " |  \n",
      " |  __lt__(self, value, /)\n",
      " |      Return self<value.\n",
      " |  \n",
      " |  __ne__(self, value, /)\n",
      " |      Return self!=value.\n",
      " |  \n",
      " |  __reduce__(...)\n",
      " |      Helper for pickle.\n",
      " |  \n",
      " |  __repr__(self, /)\n",
      " |      Return repr(self).\n",
      " |  \n",
      " |  __reversed__(...)\n",
      " |      Return a reverse iterator.\n",
      " |  \n",
      " |  count(...)\n",
      " |      rangeobject.count(value) -> integer -- return number of occurrences of value\n",
      " |  \n",
      " |  index(...)\n",
      " |      rangeobject.index(value) -> integer -- return index of value.\n",
      " |      Raise ValueError if the value is not present.\n",
      " |  \n",
      " |  ----------------------------------------------------------------------\n",
      " |  Static methods defined here:\n",
      " |  \n",
      " |  __new__(*args, **kwargs) from builtins.type\n",
      " |      Create and return a new object.  See help(type) for accurate signature.\n",
      " |  \n",
      " |  ----------------------------------------------------------------------\n",
      " |  Data descriptors defined here:\n",
      " |  \n",
      " |  start\n",
      " |  \n",
      " |  step\n",
      " |  \n",
      " |  stop\n",
      "\n"
     ]
    }
   ],
   "source": [
    "help(range)"
   ]
  },
  {
   "cell_type": "markdown",
   "metadata": {},
   "source": [
    "##### isinstance()"
   ]
  },
  {
   "cell_type": "code",
   "execution_count": 70,
   "metadata": {},
   "outputs": [],
   "source": [
    "#isinstance(<data_to_check>), <type>\n",
    "type('sean')\n",
    "\n",
    "isinstance('sean',int)\n",
    "\n",
    "my_age = '55'\n",
    "if isinstance(my_age, int):\n",
    "    print(my_age + 5)"
   ]
  },
  {
   "cell_type": "markdown",
   "metadata": {},
   "source": [
    "##### abs()"
   ]
  },
  {
   "cell_type": "code",
   "execution_count": 71,
   "metadata": {},
   "outputs": [
    {
     "name": "stdout",
     "output_type": "stream",
     "text": [
      "5\n",
      "True\n"
     ]
    }
   ],
   "source": [
    "#distance from zero\n",
    "print(abs(-5))\n",
    "\n",
    "print(abs(-5) == 5)"
   ]
  },
  {
   "cell_type": "markdown",
   "metadata": {},
   "source": [
    "### Try and Except"
   ]
  },
  {
   "cell_type": "code",
   "execution_count": 3,
   "metadata": {},
   "outputs": [
    {
     "name": "stdout",
     "output_type": "stream",
     "text": [
      "What is your age?thirty\n",
      "Please enter your age in digits\n"
     ]
    }
   ],
   "source": [
    "try:\n",
    "    user_age = input('What is your age?')\n",
    "    user_age = int(user_age)\n",
    "    user_age += 1\n",
    "    print(f'Happy Birthday you are now {user_age}' )\n",
    "except:\n",
    "    print('Please enter your age in digits')"
   ]
  },
  {
   "cell_type": "code",
   "execution_count": null,
   "metadata": {},
   "outputs": [],
   "source": [
    "#this will break the program\n",
    "user_age = input('What is your age?')\n",
    "user_age = int(user_age)\n",
    "user_age += 1\n",
    "print(f'Please enter your age in digits {user_age}')"
   ]
  },
  {
   "cell_type": "markdown",
   "metadata": {},
   "source": [
    "### Lists"
   ]
  },
  {
   "cell_type": "markdown",
   "metadata": {},
   "source": [
    "##### Declaring Lists"
   ]
  },
  {
   "cell_type": "code",
   "execution_count": 4,
   "metadata": {},
   "outputs": [
    {
     "data": {
      "text/plain": [
       "list"
      ]
     },
     "execution_count": 4,
     "metadata": {},
     "output_type": "execute_result"
    }
   ],
   "source": [
    "first_list = []\n",
    "\n",
    "type([])"
   ]
  },
  {
   "cell_type": "markdown",
   "metadata": {},
   "source": [
    "##### Indexing a List"
   ]
  },
  {
   "cell_type": "code",
   "execution_count": 12,
   "metadata": {},
   "outputs": [
    {
     "name": "stdout",
     "output_type": "stream",
     "text": [
      "[100, 8, 1, 3]\n"
     ]
    },
    {
     "data": {
      "text/plain": [
       "3"
      ]
     },
     "execution_count": 12,
     "metadata": {},
     "output_type": "execute_result"
    }
   ],
   "source": [
    "#index is position, element is value\n",
    "[1,3,5,9][1]\n",
    "#indecies start at 0\n",
    "[1,3,5,9][0]\n",
    "\n",
    "number_list = [100,8,1,3]\n",
    "\n",
    "print(number_list)\n",
    "\n",
    "number_list[2]\n",
    "\n",
    "number_list[-1]\n",
    "number_list[3]"
   ]
  },
  {
   "cell_type": "markdown",
   "metadata": {},
   "source": [
    "##### .append()"
   ]
  },
  {
   "cell_type": "code",
   "execution_count": 14,
   "metadata": {},
   "outputs": [
    {
     "name": "stdout",
     "output_type": "stream",
     "text": [
      "[100, 8, 1, 3, 5]\n",
      "[100, 8, 1, 3, 5, 5]\n"
     ]
    }
   ],
   "source": [
    "#add an element to the end of the list\n",
    "print(number_list)\n",
    "\n",
    "number_list.append(5)\n",
    "\n",
    "print(number_list)\n",
    "\n",
    "#can only append one element at a time\n",
    "#bug\n",
    "#number_list.append(10,1)"
   ]
  },
  {
   "cell_type": "markdown",
   "metadata": {},
   "source": [
    "##### .insert()"
   ]
  },
  {
   "cell_type": "code",
   "execution_count": 15,
   "metadata": {},
   "outputs": [
    {
     "name": "stdout",
     "output_type": "stream",
     "text": [
      "[99, 100, 8, 1, 3, 5, 5]\n"
     ]
    }
   ],
   "source": [
    "#add an element at specific position\n",
    "#<list>.insert(<position>, <element>)\n",
    "\n",
    "number_list.insert(0,99)\n",
    "print(number_list)"
   ]
  },
  {
   "cell_type": "code",
   "execution_count": 17,
   "metadata": {},
   "outputs": [
    {
     "name": "stdout",
     "output_type": "stream",
     "text": [
      "[99, 100, 88, 88, 8, 1, 3, 5, 5]\n"
     ]
    }
   ],
   "source": [
    "number_list.insert(2,88)\n",
    "print(number_list)"
   ]
  },
  {
   "cell_type": "markdown",
   "metadata": {},
   "source": [
    "##### .pop()"
   ]
  },
  {
   "cell_type": "code",
   "execution_count": 18,
   "metadata": {},
   "outputs": [
    {
     "name": "stdout",
     "output_type": "stream",
     "text": [
      "[99, 100, 88, 88, 8, 1, 3, 5]\n"
     ]
    }
   ],
   "source": [
    "#remove item from list\n",
    "#takes an index\n",
    "#default index last position\n",
    "\n",
    "number_list.pop()\n",
    "print(number_list)"
   ]
  },
  {
   "cell_type": "code",
   "execution_count": 19,
   "metadata": {},
   "outputs": [
    {
     "name": "stdout",
     "output_type": "stream",
     "text": [
      "88\n"
     ]
    }
   ],
   "source": [
    "number_removed = number_list.pop(2)\n",
    "print(number_removed)"
   ]
  },
  {
   "cell_type": "code",
   "execution_count": 20,
   "metadata": {},
   "outputs": [
    {
     "name": "stdout",
     "output_type": "stream",
     "text": [
      "[99, 88, 8, 1, 3, 5] 100\n"
     ]
    }
   ],
   "source": [
    "first_position_removed = number_list.pop(1)\n",
    "print(number_list, first_position_removed)"
   ]
  },
  {
   "cell_type": "markdown",
   "metadata": {},
   "source": [
    "\n",
    "##### .remove()"
   ]
  },
  {
   "cell_type": "code",
   "execution_count": 21,
   "metadata": {},
   "outputs": [
    {
     "name": "stdout",
     "output_type": "stream",
     "text": [
      "[99, 88, 8, 1, 3, 5]\n",
      "[99, 88, 8, 1, 3]\n"
     ]
    }
   ],
   "source": [
    "#remove by value (not index)\n",
    "print(number_list)\n",
    "\n",
    "number_list.remove(5)\n",
    "print(number_list)"
   ]
  },
  {
   "cell_type": "code",
   "execution_count": 23,
   "metadata": {},
   "outputs": [
    {
     "name": "stdout",
     "output_type": "stream",
     "text": [
      "['a', 'b', 'c', 'a']\n",
      "['b', 'c', 'a']\n"
     ]
    }
   ],
   "source": [
    "letter_list =['a', 'b', 'c']\n",
    "\n",
    "letter_list.append('a')\n",
    "\n",
    "print(letter_list)\n",
    "\n",
    "letter_list.remove('a')\n",
    "\n",
    "print(letter_list)"
   ]
  },
  {
   "cell_type": "markdown",
   "metadata": {},
   "source": [
    "##### del()"
   ]
  },
  {
   "cell_type": "code",
   "execution_count": 24,
   "metadata": {},
   "outputs": [
    {
     "name": "stdout",
     "output_type": "stream",
     "text": [
      "['c', 'a']\n"
     ]
    }
   ],
   "source": [
    "del(letter_list[0])\n",
    "\n",
    "print(letter_list)"
   ]
  },
  {
   "cell_type": "markdown",
   "metadata": {},
   "source": [
    "##### Concatenating Two Lists"
   ]
  },
  {
   "cell_type": "code",
   "execution_count": 27,
   "metadata": {},
   "outputs": [
    {
     "name": "stdout",
     "output_type": "stream",
     "text": [
      "['c', 'a', 'z', 'y', 'x']\n",
      "['c', 'a', 'z', 'y', 'x', 'g', 'h', 'i']\n"
     ]
    }
   ],
   "source": [
    "#concat with <list> + <list>\n",
    "\n",
    "letter_list + ['z' , 'y' , 'x']\n",
    "\n",
    "print(letter_list)\n",
    "\n",
    "letter_list += ['g', 'h', 'i']\n",
    "\n",
    "print(letter_list)"
   ]
  },
  {
   "cell_type": "markdown",
   "metadata": {},
   "source": [
    "##### Lists Within Lists"
   ]
  },
  {
   "cell_type": "code",
   "execution_count": 28,
   "metadata": {},
   "outputs": [
    {
     "name": "stdout",
     "output_type": "stream",
     "text": [
      "[99, 88, 8, 1, 3, 'c', 'a', 'z', 'y', 'x', 'g', 'h', 'i']\n"
     ]
    }
   ],
   "source": [
    "random_list = number_list + letter_list\n",
    "\n",
    "print(random_list)"
   ]
  },
  {
   "cell_type": "code",
   "execution_count": 30,
   "metadata": {},
   "outputs": [
    {
     "name": "stdout",
     "output_type": "stream",
     "text": [
      "[1, 2, 3]\n",
      "1\n",
      "2\n",
      "3\n",
      "[3, 4, 5]\n",
      "3\n",
      "4\n",
      "5\n",
      "[100, 3, 9]\n",
      "100\n",
      "3\n",
      "9\n"
     ]
    }
   ],
   "source": [
    "matrix = [[1,2,3], [3,4,5], [100,3,9]]\n",
    "\n",
    "for l in matrix:\n",
    "    print(l)\n",
    "    for num in l:\n",
    "        print(num)"
   ]
  },
  {
   "cell_type": "markdown",
   "metadata": {},
   "source": [
    "##### Looping Through Lists"
   ]
  },
  {
   "cell_type": "code",
   "execution_count": 31,
   "metadata": {},
   "outputs": [
    {
     "name": "stdout",
     "output_type": "stream",
     "text": [
      "1\n",
      "e\n",
      "['abc']\n",
      "100\n"
     ]
    }
   ],
   "source": [
    "#loop through the elements\n",
    "#for <loop variable> in <list>:\n",
    "for e in [1,'e', ['abc'], 100]:\n",
    "    print(e)"
   ]
  },
  {
   "cell_type": "code",
   "execution_count": 39,
   "metadata": {},
   "outputs": [
    {
     "name": "stdout",
     "output_type": "stream",
     "text": [
      " i= 0 current_value =1\n",
      "True\n",
      " i= 1 current_value =2\n",
      "True\n",
      " i= 2 current_value =3\n",
      "True\n",
      " i= 3 current_value =100\n",
      " i= 4 current_value =99\n"
     ]
    }
   ],
   "source": [
    "#print true if current element is less than next element in list\n",
    "\n",
    "#for i in range(len<list>))\n",
    "\n",
    "num_list2 = [1,2,3,100,99]\n",
    "\n",
    "for i in range(len(num_list2)):\n",
    "    current_value = num_list2[i]\n",
    "    print(f'{ i= } {current_value =}')\n",
    "    #combine conditions to prevent index out of range loop, ensuring we're at last index\n",
    "    if i != len(num_list2)-1 and current_value < num_list2[i + 1]:\n",
    "        print(True)\n",
    "    "
   ]
  },
  {
   "cell_type": "code",
   "execution_count": 32,
   "metadata": {},
   "outputs": [
    {
     "name": "stdout",
     "output_type": "stream",
     "text": [
      "4\n",
      "[0, 1, 2, 3]\n"
     ]
    }
   ],
   "source": [
    "test_list = [1,2,3,4]\n",
    "print(len(test_list))\n",
    "\n",
    "print(list(range(4)))"
   ]
  },
  {
   "cell_type": "markdown",
   "metadata": {},
   "source": [
    "## Exercise #1 <br>\n",
    "<p>Cube Number Test... Print out all cubed numbers up to the total value 1000. Meaning that if the cubed number is over 1000 break the loop.</p>"
   ]
  },
  {
   "cell_type": "code",
   "execution_count": 140,
   "metadata": {},
   "outputs": [
    {
     "name": "stdout",
     "output_type": "stream",
     "text": [
      "0\n",
      "1\n",
      "8\n",
      "27\n",
      "64\n",
      "125\n",
      "216\n",
      "343\n",
      "512\n",
      "729\n",
      "1000\n"
     ]
    }
   ],
   "source": [
    "num = 0\n",
    "result = 0\n",
    "\n",
    "while True:\n",
    "    result = num ** 3\n",
    "    if result > 1000:\n",
    "        break\n",
    "    else:\n",
    "        print(result)\n",
    "    num += 1"
   ]
  },
  {
   "cell_type": "markdown",
   "metadata": {},
   "source": [
    "## Exercise #2 <br>\n",
    "<p>Get first prime numbers up to 100</p>"
   ]
  },
  {
   "cell_type": "code",
   "execution_count": 43,
   "metadata": {},
   "outputs": [
    {
     "name": "stdout",
     "output_type": "stream",
     "text": [
      "3\n",
      "5\n",
      "7\n",
      "11\n",
      "13\n",
      "17\n",
      "19\n",
      "23\n",
      "29\n",
      "31\n",
      "37\n",
      "41\n",
      "43\n",
      "47\n",
      "53\n",
      "59\n",
      "61\n",
      "67\n",
      "71\n",
      "73\n",
      "79\n",
      "83\n",
      "89\n",
      "97\n"
     ]
    }
   ],
   "source": [
    "# HINT::\n",
    "# An else after an if runs if the if didn’t\n",
    "# An else after a for runs if the for didn’t break\n",
    "\n",
    "\n",
    "\n",
    "#look at every number up to 100\n",
    "#check if any number leading up to that number besides 1 is divisible\n",
    "#f not print num\n",
    "\n",
    "for num in range(100):\n",
    "    for n in range(2, num):\n",
    "        if num % n == 0:\n",
    "            break\n",
    "        if n == num -1:\n",
    "            print(num)\n",
    "\n",
    "\n",
    "        \n",
    "\n",
    "\n",
    "        \n",
    "\n"
   ]
  },
  {
   "cell_type": "code",
   "execution_count": 42,
   "metadata": {},
   "outputs": [
    {
     "name": "stdout",
     "output_type": "stream",
     "text": [
      "[2, 3, 5, 7, 11, 13, 17, 19, 23, 29, 31, 37, 41, 43, 47, 53, 59, 61, 67, 71, 73, 79, 83, 89, 97]\n"
     ]
    }
   ],
   "source": [
    "primeNumList = []\n",
    "isPrime = True\n",
    "for i in range(2,101):\n",
    "    isPrime = True\n",
    "    for j in range(2,i-1):\n",
    "        if i % j == 0:\n",
    "            isPrime = False\n",
    "    if isPrime == True:\n",
    "        primeNumList.append(i)\n",
    "        \n",
    "print(primeNumList)\n",
    "                "
   ]
  },
  {
   "cell_type": "code",
   "execution_count": null,
   "metadata": {},
   "outputs": [],
   "source": [
    "for num in range(1,100):\n",
    "    if num % 3 == 0 or num % 5 == 0 or num % 7 == 0\n",
    "    print(num)"
   ]
  },
  {
   "cell_type": "markdown",
   "metadata": {},
   "source": [
    "# Exercise 3 <br>\n",
    "<p>Take in a users input for their age, if they are younger than 18 print kids, if they're 18 to 65 print adults, else print seniors</p>"
   ]
  },
  {
   "cell_type": "code",
   "execution_count": 162,
   "metadata": {},
   "outputs": [
    {
     "name": "stdout",
     "output_type": "stream",
     "text": [
      "How old are you? 15\n",
      "KIDS\n"
     ]
    }
   ],
   "source": [
    "user_age_string = input(\"How old are you? \")\n",
    "user_age = int(user_age_string)\n",
    "if user_age < 18:\n",
    "    print(\"KIDS\")\n",
    "elif user_age >= 18 and user_age <= 65:\n",
    "    print(\"ADULTS\")\n",
    "else:\n",
    "    print(\"SENIORS\")"
   ]
  },
  {
   "cell_type": "code",
   "execution_count": null,
   "metadata": {},
   "outputs": [],
   "source": []
  }
 ],
 "metadata": {
  "kernelspec": {
   "display_name": "Python 3 (ipykernel)",
   "language": "python",
   "name": "python3"
  },
  "language_info": {
   "codemirror_mode": {
    "name": "ipython",
    "version": 3
   },
   "file_extension": ".py",
   "mimetype": "text/x-python",
   "name": "python",
   "nbconvert_exporter": "python",
   "pygments_lexer": "ipython3",
   "version": "3.10.9"
  }
 },
 "nbformat": 4,
 "nbformat_minor": 2
}
